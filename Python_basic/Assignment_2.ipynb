{
 "cells": [
  {
   "cell_type": "markdown",
   "id": "05ce2b3d",
   "metadata": {},
   "source": [
    "Q1.What are the two values of the Boolean data type? How do you write them?\n",
    "\n",
    "Ans:-two values of Boolean data type are True and False"
   ]
  },
  {
   "cell_type": "code",
   "execution_count": 1,
   "id": "08b167f8",
   "metadata": {},
   "outputs": [],
   "source": [
    "a=True\n",
    "b=False"
   ]
  },
  {
   "cell_type": "code",
   "execution_count": 2,
   "id": "3ed808d2",
   "metadata": {},
   "outputs": [
    {
     "data": {
      "text/plain": [
       "bool"
      ]
     },
     "execution_count": 2,
     "metadata": {},
     "output_type": "execute_result"
    }
   ],
   "source": [
    "type(a)"
   ]
  },
  {
   "cell_type": "markdown",
   "id": "a9d49e89",
   "metadata": {},
   "source": [
    "Q2. What are the three different types of Boolean operators?\n",
    "\n",
    "Ans:- AND,OR,NOT"
   ]
  },
  {
   "cell_type": "markdown",
   "id": "b83cfcd4",
   "metadata": {},
   "source": [
    "Q3.Make a list of each Boolean operator's truth tables (i.e. every possible combination of Boolean values for the operator and what it evaluate ).\n",
    "\n",
    "Ans:-\n",
    "    for AND :\n",
    "    \n",
    "        A  B  Output\n",
    "        1  0  0\n",
    "        1  1  1\n",
    "        0  0  0\n",
    "        0  1  0\n",
    "        \n",
    "    for OR :\n",
    "        A  B  Output\n",
    "        1  0  1\n",
    "        1  1  1\n",
    "        0  0  0\n",
    "        0  1  1\n",
    "        \n",
    "    for NOT:\n",
    "        It will reverse the output of AND , OR gate (it gives Complementry values of any operation's result).\n",
    "        for eg:- True (1) becomes False (0) and vice-versa "
   ]
  },
  {
   "cell_type": "markdown",
   "id": "43846599",
   "metadata": {},
   "source": [
    "Q4.What are the values of the following expressions?\n",
    "(5 > 4) and (3 == 5)\n",
    "not (5 > 4)\n",
    "(5 > 4) or (3 == 5)\n",
    "not ((5 > 4) or (3 == 5))\n",
    "(True and True) and (True == False)\n",
    "(not False) or (not True)\n",
    "\n",
    "Ans:-"
   ]
  },
  {
   "cell_type": "code",
   "execution_count": 6,
   "id": "c217ebba",
   "metadata": {},
   "outputs": [
    {
     "data": {
      "text/plain": [
       "False"
      ]
     },
     "execution_count": 6,
     "metadata": {},
     "output_type": "execute_result"
    }
   ],
   "source": [
    "(5 > 4) and (3 == 5)"
   ]
  },
  {
   "cell_type": "code",
   "execution_count": 7,
   "id": "5305a59b",
   "metadata": {},
   "outputs": [
    {
     "data": {
      "text/plain": [
       "False"
      ]
     },
     "execution_count": 7,
     "metadata": {},
     "output_type": "execute_result"
    }
   ],
   "source": [
    "not (5 > 4)"
   ]
  },
  {
   "cell_type": "code",
   "execution_count": 8,
   "id": "a342168e",
   "metadata": {},
   "outputs": [
    {
     "data": {
      "text/plain": [
       "True"
      ]
     },
     "execution_count": 8,
     "metadata": {},
     "output_type": "execute_result"
    }
   ],
   "source": [
    "(5 > 4) or (3 == 5)"
   ]
  },
  {
   "cell_type": "code",
   "execution_count": 9,
   "id": "f7e5bfb5",
   "metadata": {},
   "outputs": [
    {
     "data": {
      "text/plain": [
       "False"
      ]
     },
     "execution_count": 9,
     "metadata": {},
     "output_type": "execute_result"
    }
   ],
   "source": [
    "not ((5 > 4) or (3 == 5))"
   ]
  },
  {
   "cell_type": "code",
   "execution_count": 10,
   "id": "5308b645",
   "metadata": {},
   "outputs": [
    {
     "data": {
      "text/plain": [
       "False"
      ]
     },
     "execution_count": 10,
     "metadata": {},
     "output_type": "execute_result"
    }
   ],
   "source": [
    "(True and True) and (True == False)"
   ]
  },
  {
   "cell_type": "code",
   "execution_count": 11,
   "id": "1972dd78",
   "metadata": {},
   "outputs": [
    {
     "data": {
      "text/plain": [
       "True"
      ]
     },
     "execution_count": 11,
     "metadata": {},
     "output_type": "execute_result"
    }
   ],
   "source": [
    "(not False) or (not True)"
   ]
  },
  {
   "cell_type": "markdown",
   "id": "0cbc1d20",
   "metadata": {},
   "source": [
    "Q5.What are the six comparison operators?\n",
    "\n",
    "Ans:- Six comparison operator are : less than (<), less than equal to (<=), greater than (>), greater than equal to (>=), equal to (==) and not equal to (!=)"
   ]
  },
  {
   "cell_type": "markdown",
   "id": "2773b662",
   "metadata": {},
   "source": [
    "Q6. How do you tell the difference between the equal to and assignment operators?Describe a condition and when you would use one.\n",
    "\n",
    "Ans:- equal to (==), It will check whether two operands are equal or not for eg:- 2==5 , result will be False.\n",
    "      Assignment operator (=), It is used to assign the value in any variable."
   ]
  },
  {
   "cell_type": "markdown",
   "id": "dd523f8f",
   "metadata": {},
   "source": [
    "Q7.Identify the three blocks in this code:\n",
    "spam = 0\n",
    "if spam == 10:\n",
    "print('eggs')\n",
    "if spam > 5:\n",
    "print('bacon')\n",
    "else:\n",
    "print('ham')\n",
    "print('spam')\n",
    "print('spam')\n",
    "\n",
    "Ans:- Whenever we maintained the indentation of a line , we can say it one block.\n",
    "      Here three blocks are: if statement,print('bacon') and after else print('ham')."
   ]
  },
  {
   "cell_type": "code",
   "execution_count": 13,
   "id": "fbaa95ac",
   "metadata": {},
   "outputs": [
    {
     "name": "stdout",
     "output_type": "stream",
     "text": [
      "spam\n"
     ]
    }
   ],
   "source": [
    "spam = 0\n",
    "if spam == 10:\n",
    "    print('eggs')\n",
    "    if spam>5:\n",
    "        print('bacon')\n",
    "    else:\n",
    "        print('ham')\n",
    "    print('spam')\n",
    "print('spam')"
   ]
  },
  {
   "cell_type": "markdown",
   "id": "964dce90",
   "metadata": {},
   "source": [
    "Q8.Write code that prints Hello if 1 is stored in spam, prints Howdy if 2 is stored in spam, and prints Greetings! if anything else is stored in spam.\n",
    "\n",
    "Ans:-"
   ]
  },
  {
   "cell_type": "code",
   "execution_count": 17,
   "id": "33bb72db",
   "metadata": {},
   "outputs": [
    {
     "name": "stdout",
     "output_type": "stream",
     "text": [
      "89\n",
      "Greetings!\n"
     ]
    }
   ],
   "source": [
    "spam = int(input())\n",
    "if spam ==1:\n",
    "    print('Hello')\n",
    "elif spam == 2:\n",
    "    print('Howdy')\n",
    "else:\n",
    "    print('Greetings!')\n",
    "    "
   ]
  },
  {
   "cell_type": "markdown",
   "id": "b3831571",
   "metadata": {},
   "source": [
    "Q9.If your programme is stuck in an endless loop, what keys you’ll press?\n",
    "\n",
    "Ans:- when we stuck in our programme with an endless loop, then we will stop/interrupt the kernal, so we can press shortcut Ctrl+C"
   ]
  },
  {
   "cell_type": "markdown",
   "id": "34d72875",
   "metadata": {},
   "source": [
    "Q10.How can you tell the difference between break and continue?\n",
    "\n",
    "Ans:- break keyword will terminate the execution of the current loop.whereas \n",
    "      continue keyword skips the current iteration and executes the next one."
   ]
  },
  {
   "cell_type": "markdown",
   "id": "b0be395d",
   "metadata": {},
   "source": [
    "Q11.. In a for loop, what is the difference between range(10), range(0, 10), and range(0, 10, 1)?\n",
    "\n",
    "Ans:- "
   ]
  },
  {
   "cell_type": "markdown",
   "id": "f0c31c3d",
   "metadata": {},
   "source": [
    "range(10) call range from 0 to 9 (but not include 10)"
   ]
  },
  {
   "cell_type": "markdown",
   "id": "426b84c5",
   "metadata": {},
   "source": [
    "range (0,10) explicitly tells the loop to start at 0"
   ]
  },
  {
   "cell_type": "markdown",
   "id": "4304ac6a",
   "metadata": {},
   "source": [
    "range(0,10,1) explicitly tells the loop to increase the variable by 1 on each iteration i.e defining the step size."
   ]
  },
  {
   "cell_type": "markdown",
   "id": "0f788ba6",
   "metadata": {},
   "source": [
    "Q12.Write a short program that prints the numbers 1 to 10 using a for loop. Then write an equivalent program that prints the numbers 1 to 10 using a while loop.\n",
    "\n",
    "Ans:-"
   ]
  },
  {
   "cell_type": "code",
   "execution_count": 19,
   "id": "9ba154c5",
   "metadata": {},
   "outputs": [
    {
     "name": "stdout",
     "output_type": "stream",
     "text": [
      "1\n",
      "2\n",
      "3\n",
      "4\n",
      "5\n",
      "6\n",
      "7\n",
      "8\n",
      "9\n",
      "10\n"
     ]
    }
   ],
   "source": [
    "for i in range(1,11):\n",
    "    print(i)"
   ]
  },
  {
   "cell_type": "code",
   "execution_count": 22,
   "id": "a42b847b",
   "metadata": {},
   "outputs": [
    {
     "name": "stdout",
     "output_type": "stream",
     "text": [
      "1\n",
      "2\n",
      "3\n",
      "4\n",
      "5\n",
      "6\n",
      "7\n",
      "8\n",
      "9\n",
      "10\n"
     ]
    }
   ],
   "source": [
    "i =1\n",
    "while(i<=10):\n",
    "    print(i)\n",
    "    i+=1"
   ]
  },
  {
   "cell_type": "markdown",
   "id": "e1512d5d",
   "metadata": {},
   "source": [
    "Q13.If you had a function named bacon() inside a module named spam, how would you call it after importing spam?\n",
    "\n",
    "Ans:- we can call it spam.bacon()"
   ]
  }
 ],
 "metadata": {
  "kernelspec": {
   "display_name": "Python 3",
   "language": "python",
   "name": "python3"
  },
  "language_info": {
   "codemirror_mode": {
    "name": "ipython",
    "version": 3
   },
   "file_extension": ".py",
   "mimetype": "text/x-python",
   "name": "python",
   "nbconvert_exporter": "python",
   "pygments_lexer": "ipython3",
   "version": "3.8.8"
  }
 },
 "nbformat": 4,
 "nbformat_minor": 5
}
