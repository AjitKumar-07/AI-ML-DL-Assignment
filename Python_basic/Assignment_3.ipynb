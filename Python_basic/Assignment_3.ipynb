{
 "cells": [
  {
   "cell_type": "markdown",
   "id": "12253a0f",
   "metadata": {},
   "source": [
    "##### 1. Why are functions advantageous to have in your programs?"
   ]
  },
  {
   "cell_type": "markdown",
   "id": "258e6b08",
   "metadata": {},
   "source": [
    "Ans:- Because we can avoid duplicacy of code by using function."
   ]
  },
  {
   "cell_type": "markdown",
   "id": "518a4f4a",
   "metadata": {},
   "source": [
    "##### 2. When does the code in a function run: when it's specified or when it's called?"
   ]
  },
  {
   "cell_type": "markdown",
   "id": "67a1a894",
   "metadata": {},
   "source": [
    "Ans:- Code in a function run, when it's called."
   ]
  },
  {
   "cell_type": "markdown",
   "id": "ff6abd2b",
   "metadata": {},
   "source": [
    "##### 3. What statement creates a function?"
   ]
  },
  {
   "cell_type": "markdown",
   "id": "949bfab2",
   "metadata": {},
   "source": [
    "Ans:- def followed by function name. for eg:- def iseven()"
   ]
  },
  {
   "cell_type": "markdown",
   "id": "f0b7d0d5",
   "metadata": {},
   "source": [
    "##### 4. What is the difference between a function and a function call?"
   ]
  },
  {
   "cell_type": "markdown",
   "id": "2fe35ae0",
   "metadata": {},
   "source": [
    "Ans:- function is a set of code and once the function code is written then we can call it multiple times.\n",
    "      Whereas, calling a function is known to be function call."
   ]
  },
  {
   "cell_type": "markdown",
   "id": "1854e30f",
   "metadata": {},
   "source": [
    "##### 5. How many global scopes are there in a Python program? How many local scopes?"
   ]
  },
  {
   "cell_type": "markdown",
   "id": "61411fc5",
   "metadata": {},
   "source": [
    "Ans:- There is one global scope, and a local scope is created whenever a function is called."
   ]
  },
  {
   "cell_type": "markdown",
   "id": "0e050a1c",
   "metadata": {},
   "source": [
    "##### 6. What happens to variables in a local scope when the function call returns?"
   ]
  },
  {
   "cell_type": "markdown",
   "id": "4e729c72",
   "metadata": {},
   "source": [
    "Ans:- When a function returns(terminates), the local scope(variable) is destroyed."
   ]
  },
  {
   "cell_type": "markdown",
   "id": "34800f82",
   "metadata": {},
   "source": [
    "##### 7. What is the concept of a return value? Is it possible to have a return value in an expression?"
   ]
  },
  {
   "cell_type": "markdown",
   "id": "7c9797d3",
   "metadata": {},
   "source": [
    "Ans:- A return value is the value that a function call evaluates to.The return value of a Python function can be any Python object."
   ]
  },
  {
   "cell_type": "markdown",
   "id": "8c998c18",
   "metadata": {},
   "source": [
    "##### 8. If a function does not have a return statement, what is the return value of a call to that function?"
   ]
  },
  {
   "cell_type": "markdown",
   "id": "3c987e70",
   "metadata": {},
   "source": [
    "Ans:- None"
   ]
  },
  {
   "cell_type": "markdown",
   "id": "464f7fbd",
   "metadata": {},
   "source": [
    "##### 9. How do you make a function variable refer to the global variable?"
   ]
  },
  {
   "cell_type": "markdown",
   "id": "dd85d33a",
   "metadata": {},
   "source": [
    "Ans:- use the global keyword to declare which variables are global"
   ]
  },
  {
   "cell_type": "markdown",
   "id": "33c64b31",
   "metadata": {},
   "source": [
    "##### 10. What is the data type of None?"
   ]
  },
  {
   "cell_type": "markdown",
   "id": "0f5d4d23",
   "metadata": {},
   "source": [
    "Ans:- None is a data type of its own (NoneType)"
   ]
  },
  {
   "cell_type": "markdown",
   "id": "4163a2d6",
   "metadata": {},
   "source": [
    "##### 11. What does the sentence import areallyourpetsnamederic do?"
   ]
  },
  {
   "cell_type": "markdown",
   "id": "42f86fe7",
   "metadata": {},
   "source": [
    "Ans:- It will imports a module named areallyourpetsnamederic"
   ]
  },
  {
   "cell_type": "markdown",
   "id": "fab58313",
   "metadata": {},
   "source": [
    "##### 12. If you had a bacon() feature in a spam module, what would you call it after importing spam?"
   ]
  },
  {
   "cell_type": "markdown",
   "id": "a515617a",
   "metadata": {},
   "source": [
    "Ans:- spam.bacon()"
   ]
  },
  {
   "cell_type": "markdown",
   "id": "2cc8d933",
   "metadata": {},
   "source": [
    "##### 13. What can you do to save a programme from crashing if it encounters an error?"
   ]
  },
  {
   "cell_type": "markdown",
   "id": "59a4d881",
   "metadata": {},
   "source": [
    "Ans:- Using the Try Except block , we can save our programme from crashing"
   ]
  },
  {
   "cell_type": "markdown",
   "id": "54ae6f60",
   "metadata": {},
   "source": [
    "##### 14. What is the purpose of the try clause? What is the purpose of the except clause?"
   ]
  },
  {
   "cell_type": "markdown",
   "id": "b1ce9463",
   "metadata": {},
   "source": [
    "Ans:- the code inside the try block will execute when there is no error in the program. Whereas the code inside the except block will execute whenever the program encounters some error"
   ]
  }
 ],
 "metadata": {
  "kernelspec": {
   "display_name": "Python 3",
   "language": "python",
   "name": "python3"
  },
  "language_info": {
   "codemirror_mode": {
    "name": "ipython",
    "version": 3
   },
   "file_extension": ".py",
   "mimetype": "text/x-python",
   "name": "python",
   "nbconvert_exporter": "python",
   "pygments_lexer": "ipython3",
   "version": "3.8.8"
  }
 },
 "nbformat": 4,
 "nbformat_minor": 5
}
