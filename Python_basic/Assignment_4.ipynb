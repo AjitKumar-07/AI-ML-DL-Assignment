{
 "cells": [
  {
   "cell_type": "markdown",
   "id": "44bfb269",
   "metadata": {},
   "source": [
    "##### 1. What exactly is [ ]?"
   ]
  },
  {
   "cell_type": "markdown",
   "id": "ff2ad43f",
   "metadata": {},
   "source": [
    "Ans:- [ ] it is an Empty List"
   ]
  },
  {
   "cell_type": "markdown",
   "id": "ce71bc5a",
   "metadata": {},
   "source": [
    "##### 2. In a list of values stored in a variable called spam, how would you assign the value 'hello' as the third value? (Assume [2, 4, 6, 8, 10] are in spam.)"
   ]
  },
  {
   "cell_type": "markdown",
   "id": "3f7038f5",
   "metadata": {},
   "source": [
    "Ans:- "
   ]
  },
  {
   "cell_type": "code",
   "execution_count": 12,
   "id": "f8efaea7",
   "metadata": {},
   "outputs": [
    {
     "data": {
      "text/plain": [
       "[2, 4, 6, 8, 10]"
      ]
     },
     "execution_count": 12,
     "metadata": {},
     "output_type": "execute_result"
    }
   ],
   "source": [
    "Spam = [2,4,6,8,10]\n",
    "Spam"
   ]
  },
  {
   "cell_type": "code",
   "execution_count": 13,
   "id": "7294baf2",
   "metadata": {},
   "outputs": [
    {
     "data": {
      "text/plain": [
       "[2, 4, 'hello', 8, 10]"
      ]
     },
     "execution_count": 13,
     "metadata": {},
     "output_type": "execute_result"
    }
   ],
   "source": [
    "Spam[2]=\"hello\"\n",
    "Spam"
   ]
  },
  {
   "cell_type": "markdown",
   "id": "f5fe7d7f",
   "metadata": {},
   "source": [
    "##### 3. What is the value of spam[int(int('3' * 2) / 11)]?"
   ]
  },
  {
   "cell_type": "code",
   "execution_count": 21,
   "id": "0bacbcab",
   "metadata": {},
   "outputs": [
    {
     "data": {
      "text/plain": [
       "[2, 4, 'hello', 8, 10]"
      ]
     },
     "execution_count": 21,
     "metadata": {},
     "output_type": "execute_result"
    }
   ],
   "source": [
    "Spam"
   ]
  },
  {
   "cell_type": "code",
   "execution_count": 15,
   "id": "e5e5425a",
   "metadata": {},
   "outputs": [
    {
     "data": {
      "text/plain": [
       "8"
      ]
     },
     "execution_count": 15,
     "metadata": {},
     "output_type": "execute_result"
    }
   ],
   "source": [
    "Spam[int(int('3'*2)/11)]"
   ]
  },
  {
   "cell_type": "markdown",
   "id": "7bd3c4ce",
   "metadata": {},
   "source": [
    "##### 4. What is the value of spam[-1]?"
   ]
  },
  {
   "cell_type": "code",
   "execution_count": 23,
   "id": "5bc0f5e7",
   "metadata": {},
   "outputs": [
    {
     "data": {
      "text/plain": [
       "[2, 4, 'hello', 8, 10]"
      ]
     },
     "execution_count": 23,
     "metadata": {},
     "output_type": "execute_result"
    }
   ],
   "source": [
    "Spam"
   ]
  },
  {
   "cell_type": "code",
   "execution_count": 22,
   "id": "92b2780e",
   "metadata": {},
   "outputs": [
    {
     "data": {
      "text/plain": [
       "10"
      ]
     },
     "execution_count": 22,
     "metadata": {},
     "output_type": "execute_result"
    }
   ],
   "source": [
    "Spam[-1]"
   ]
  },
  {
   "cell_type": "markdown",
   "id": "3d87e600",
   "metadata": {},
   "source": [
    "##### 5. What is the value of spam[:2]?"
   ]
  },
  {
   "cell_type": "code",
   "execution_count": 24,
   "id": "1b458e3f",
   "metadata": {},
   "outputs": [
    {
     "data": {
      "text/plain": [
       "[2, 4]"
      ]
     },
     "execution_count": 24,
     "metadata": {},
     "output_type": "execute_result"
    }
   ],
   "source": [
    "Spam[:2]"
   ]
  },
  {
   "cell_type": "markdown",
   "id": "09e28025",
   "metadata": {},
   "source": [
    "##### Let's pretend bacon has the list [3.14, 'cat,' 11, 'cat,' True] for the next three questions."
   ]
  },
  {
   "cell_type": "code",
   "execution_count": 26,
   "id": "4dedea3d",
   "metadata": {},
   "outputs": [
    {
     "data": {
      "text/plain": [
       "[3.14, 'cat', 11, 'cat', True]"
      ]
     },
     "execution_count": 26,
     "metadata": {},
     "output_type": "execute_result"
    }
   ],
   "source": [
    "bacon = [3.14,'cat',11,'cat',True]\n",
    "bacon"
   ]
  },
  {
   "cell_type": "markdown",
   "id": "07264635",
   "metadata": {},
   "source": [
    "##### 6. What is the value of bacon.index('cat')?"
   ]
  },
  {
   "cell_type": "code",
   "execution_count": 27,
   "id": "f9ec347d",
   "metadata": {},
   "outputs": [
    {
     "data": {
      "text/plain": [
       "1"
      ]
     },
     "execution_count": 27,
     "metadata": {},
     "output_type": "execute_result"
    }
   ],
   "source": [
    "bacon.index('cat')"
   ]
  },
  {
   "cell_type": "markdown",
   "id": "c4bd90eb",
   "metadata": {},
   "source": [
    "##### 7. How does bacon.append(99) change the look of the list value in bacon?"
   ]
  },
  {
   "cell_type": "code",
   "execution_count": 28,
   "id": "acb3afe5",
   "metadata": {},
   "outputs": [
    {
     "data": {
      "text/plain": [
       "[3.14, 'cat', 11, 'cat', True, 99]"
      ]
     },
     "execution_count": 28,
     "metadata": {},
     "output_type": "execute_result"
    }
   ],
   "source": [
    "bacon.append(99)\n",
    "bacon"
   ]
  },
  {
   "cell_type": "markdown",
   "id": "1df269e3",
   "metadata": {},
   "source": [
    "##### 8. How does bacon.remove('cat') change the look of the list in bacon?"
   ]
  },
  {
   "cell_type": "code",
   "execution_count": 29,
   "id": "ed7a137b",
   "metadata": {},
   "outputs": [
    {
     "data": {
      "text/plain": [
       "[3.14, 11, 'cat', True, 99]"
      ]
     },
     "execution_count": 29,
     "metadata": {},
     "output_type": "execute_result"
    }
   ],
   "source": [
    "bacon.remove('cat')\n",
    "bacon"
   ]
  },
  {
   "cell_type": "markdown",
   "id": "d77ac517",
   "metadata": {},
   "source": [
    "##### 9. What are the list concatenation and list replication operators?"
   ]
  },
  {
   "cell_type": "markdown",
   "id": "6c0012b1",
   "metadata": {},
   "source": [
    "Ans: The \" + \" operator is used for list concatenation while the \" * \" operator is used for replication.\n",
    "for eg:-"
   ]
  },
  {
   "cell_type": "code",
   "execution_count": 30,
   "id": "3de9cd40",
   "metadata": {},
   "outputs": [],
   "source": [
    "l1 = [1,2,3]"
   ]
  },
  {
   "cell_type": "code",
   "execution_count": 31,
   "id": "1f8d1485",
   "metadata": {},
   "outputs": [
    {
     "data": {
      "text/plain": [
       "[1, 2, 3, 4, 5]"
      ]
     },
     "execution_count": 31,
     "metadata": {},
     "output_type": "execute_result"
    }
   ],
   "source": [
    "l1+[4,5]"
   ]
  },
  {
   "cell_type": "code",
   "execution_count": 32,
   "id": "f8a7041e",
   "metadata": {},
   "outputs": [
    {
     "data": {
      "text/plain": [
       "[1, 2, 3, 1, 2, 3, 1, 2, 3]"
      ]
     },
     "execution_count": 32,
     "metadata": {},
     "output_type": "execute_result"
    }
   ],
   "source": [
    "l1*3 # it will repeat l1 3 times"
   ]
  },
  {
   "cell_type": "markdown",
   "id": "ab77ea84",
   "metadata": {},
   "source": [
    "##### 10. What is difference between the list methods append() and insert()?"
   ]
  },
  {
   "cell_type": "markdown",
   "id": "1f10af66",
   "metadata": {},
   "source": [
    "append() will add values only to the end of a list, insert() can add them anywhere in the list. for eg:-"
   ]
  },
  {
   "cell_type": "code",
   "execution_count": 36,
   "id": "aaeaba32",
   "metadata": {},
   "outputs": [
    {
     "data": {
      "text/plain": [
       "[1, 2, 3, 9, 9]"
      ]
     },
     "execution_count": 36,
     "metadata": {},
     "output_type": "execute_result"
    }
   ],
   "source": [
    "l1"
   ]
  },
  {
   "cell_type": "code",
   "execution_count": 37,
   "id": "5bafa66f",
   "metadata": {},
   "outputs": [
    {
     "data": {
      "text/plain": [
       "[1, 2, 3, 9, 9, 18]"
      ]
     },
     "execution_count": 37,
     "metadata": {},
     "output_type": "execute_result"
    }
   ],
   "source": [
    "l1.append(18)\n",
    "l1"
   ]
  },
  {
   "cell_type": "code",
   "execution_count": 38,
   "id": "74c43466",
   "metadata": {},
   "outputs": [
    {
     "data": {
      "text/plain": [
       "[1, 2, 3, 9, 'Ajit', 9, 18]"
      ]
     },
     "execution_count": 38,
     "metadata": {},
     "output_type": "execute_result"
    }
   ],
   "source": [
    "l1.insert(4,\"Ajit\")\n",
    "l1"
   ]
  },
  {
   "cell_type": "markdown",
   "id": "70b08440",
   "metadata": {},
   "source": [
    "##### 11. What are the two methods for removing items from a list?"
   ]
  },
  {
   "cell_type": "markdown",
   "id": "226c8ced",
   "metadata": {},
   "source": [
    "The del statement and the remove() method are two ways to remove values from a list. for eg:-"
   ]
  },
  {
   "cell_type": "code",
   "execution_count": 39,
   "id": "6ffdcd35",
   "metadata": {},
   "outputs": [
    {
     "data": {
      "text/plain": [
       "[1, 2, 3, 'Ajit', 9, 18]"
      ]
     },
     "execution_count": 39,
     "metadata": {},
     "output_type": "execute_result"
    }
   ],
   "source": [
    "del l1[3]\n",
    "l1"
   ]
  },
  {
   "cell_type": "code",
   "execution_count": 40,
   "id": "d1029fd2",
   "metadata": {},
   "outputs": [
    {
     "data": {
      "text/plain": [
       "[1, 3, 'Ajit', 9, 18]"
      ]
     },
     "execution_count": 40,
     "metadata": {},
     "output_type": "execute_result"
    }
   ],
   "source": [
    "l1.remove(2)\n",
    "l1"
   ]
  },
  {
   "cell_type": "markdown",
   "id": "8ea0ca58",
   "metadata": {},
   "source": [
    "##### 12. Describe how list values and string values are identical."
   ]
  },
  {
   "cell_type": "markdown",
   "id": "82fe856a",
   "metadata": {},
   "source": [
    "Ans:- Both lists and strings can be passed to len() function, have indexes and slices, be used in for loops, be concatenated or replicated, and be used with the in and not in operators."
   ]
  },
  {
   "cell_type": "markdown",
   "id": "67a8cda0",
   "metadata": {},
   "source": [
    "##### 13. What's the difference between tuples and lists?"
   ]
  },
  {
   "cell_type": "markdown",
   "id": "9b27192b",
   "metadata": {},
   "source": [
    "Ans:- Lists are Mutable, Indexable and Slicable. they can have values added, removed, or changed. Tuples are Immutable but Indexable and Slicable. the tuple values cannot be changed at all. Also, tuples are represented using parentheses, (), while lists use the square brackets, [ ]."
   ]
  },
  {
   "cell_type": "markdown",
   "id": "143e0641",
   "metadata": {},
   "source": [
    "##### 14. How do you type a tuple value that only contains the integer 42?"
   ]
  },
  {
   "cell_type": "code",
   "execution_count": 41,
   "id": "9f857538",
   "metadata": {},
   "outputs": [
    {
     "data": {
      "text/plain": [
       "int"
      ]
     },
     "execution_count": 41,
     "metadata": {},
     "output_type": "execute_result"
    }
   ],
   "source": [
    "# t1 = (42)\n",
    "# type(t1)"
   ]
  },
  {
   "cell_type": "code",
   "execution_count": 42,
   "id": "14f16fc1",
   "metadata": {},
   "outputs": [
    {
     "data": {
      "text/plain": [
       "tuple"
      ]
     },
     "execution_count": 42,
     "metadata": {},
     "output_type": "execute_result"
    }
   ],
   "source": [
    "t2 = (42,)\n",
    "type(t2)"
   ]
  },
  {
   "cell_type": "markdown",
   "id": "1105ddd1",
   "metadata": {},
   "source": [
    "##### 15. How do you get a list value's tuple form? How do you get a tuple value's list form?"
   ]
  },
  {
   "cell_type": "markdown",
   "id": "b7e2ae1b",
   "metadata": {},
   "source": [
    "Ans:- The tuple() and list() functions, respectively are used to convert a list to tuple and vice versa"
   ]
  },
  {
   "cell_type": "markdown",
   "id": "310c4739",
   "metadata": {},
   "source": [
    "##### 16. Variables that \"contain\" list values are not necessarily lists themselves. Instead, what do they contain?"
   ]
  },
  {
   "cell_type": "markdown",
   "id": "77bb0427",
   "metadata": {},
   "source": [
    "Ans:- They contain references to list values."
   ]
  },
  {
   "cell_type": "markdown",
   "id": "6d9b6629",
   "metadata": {},
   "source": [
    "##### 17. How do you distinguish between copy.copy() and copy.deepcopy()?"
   ]
  },
  {
   "cell_type": "markdown",
   "id": "8b39c07d",
   "metadata": {},
   "source": [
    "Ans:- The copy.copy() function will do a shallow copy of a list, while the copy.deepcopy() function will do a deep copy of a list, deepcopy() will creates a new object and changing in the list will not affect original List."
   ]
  }
 ],
 "metadata": {
  "kernelspec": {
   "display_name": "Python 3",
   "language": "python",
   "name": "python3"
  },
  "language_info": {
   "codemirror_mode": {
    "name": "ipython",
    "version": 3
   },
   "file_extension": ".py",
   "mimetype": "text/x-python",
   "name": "python",
   "nbconvert_exporter": "python",
   "pygments_lexer": "ipython3",
   "version": "3.8.8"
  }
 },
 "nbformat": 4,
 "nbformat_minor": 5
}
