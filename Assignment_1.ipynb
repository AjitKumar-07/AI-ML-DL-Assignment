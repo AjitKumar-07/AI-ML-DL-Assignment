{
 "cells": [
  {
   "cell_type": "markdown",
   "id": "b2246b6e",
   "metadata": {},
   "source": [
    "Q1.1. In the below elements which of them are values or an expression? eg:- values can be integer or string and expressions will be mathematical operators.\n",
    "* \n",
    "'hello'\n",
    "-87.8\n",
    "- \n",
    "/ \n",
    "+\t\n",
    "6 \n",
    "\n",
    "Ans:- * ,-,/,+ these are expression\n",
    "\n",
    "      'hello',-87.8,6 these are values"
   ]
  },
  {
   "cell_type": "markdown",
   "id": "8264bc43",
   "metadata": {},
   "source": [
    "Q2.What is the difference between string and variable?\n",
    "\n",
    "Ans:- String is text type value, to represent the string we include anything inside double/single code. Whereas\n",
    "      Variable is used to store any values/data.\n"
   ]
  },
  {
   "cell_type": "markdown",
   "id": "f912cbbf",
   "metadata": {},
   "source": [
    "Q3.Describe three different data types\n",
    "\n",
    "Ans:- Integer,Float,List\n",
    "Integer is a whole number. for eg: 89,-73\n",
    "Float is decimal number. for eg: 2.30\n",
    "List is collection of data which is always into the square bracket [\"Ajit\",1,89]"
   ]
  },
  {
   "cell_type": "markdown",
   "id": "e1ee89e3",
   "metadata": {},
   "source": [
    "Q4.What is an expression made up of? What do all expressions do?\n",
    "\n",
    "Ans:- Expression is made up of operator and operand which gives us the output value. \n",
    "      Expression always represents the value."
   ]
  },
  {
   "cell_type": "markdown",
   "id": "cbe19a9e",
   "metadata": {},
   "source": [
    "Q5.This assignment statements, like spam = 10. What is the difference between an expression and a statement?\n",
    "\n",
    "Ans:- Expression is made up of operator and operand which gives us the output value. whereas \n",
    "      A statement is like to print a line or multiple line."
   ]
  },
  {
   "cell_type": "markdown",
   "id": "57fd3066",
   "metadata": {},
   "source": [
    "Q6.After running the following code, what does the variable bacon contain?\n",
    "bacon = 22\n",
    "bacon + 1\n",
    "\n",
    "Ans:- firstly bacon was initialized by 22 after that there is an increment by 1 so, finally the value of bacon will be 23"
   ]
  },
  {
   "cell_type": "code",
   "execution_count": 9,
   "id": "b51d1533",
   "metadata": {},
   "outputs": [],
   "source": [
    "bacon =22"
   ]
  },
  {
   "cell_type": "code",
   "execution_count": 10,
   "id": "5635cb7a",
   "metadata": {},
   "outputs": [
    {
     "data": {
      "text/plain": [
       "23"
      ]
     },
     "execution_count": 10,
     "metadata": {},
     "output_type": "execute_result"
    }
   ],
   "source": [
    "bacon+1"
   ]
  },
  {
   "cell_type": "markdown",
   "id": "d65b7534",
   "metadata": {},
   "source": [
    "Q7.What should the values of the following two terms be?\n",
    "'spam' + 'spamspam'\n",
    "'spam' * 3\n",
    "\n",
    "Ans:- it will print three times spam"
   ]
  },
  {
   "cell_type": "code",
   "execution_count": 11,
   "id": "fd655930",
   "metadata": {},
   "outputs": [
    {
     "data": {
      "text/plain": [
       "'spamspamspam'"
      ]
     },
     "execution_count": 11,
     "metadata": {},
     "output_type": "execute_result"
    }
   ],
   "source": [
    "'spam' + 'spamspam'"
   ]
  },
  {
   "cell_type": "code",
   "execution_count": 12,
   "id": "75bc8190",
   "metadata": {},
   "outputs": [
    {
     "data": {
      "text/plain": [
       "'spamspamspam'"
      ]
     },
     "execution_count": 12,
     "metadata": {},
     "output_type": "execute_result"
    }
   ],
   "source": [
    "'spam'*3"
   ]
  },
  {
   "cell_type": "markdown",
   "id": "6bd8347e",
   "metadata": {},
   "source": [
    "Q8.Why is eggs a valid variable name while 100 is invalid?\n",
    "\n",
    "Ans:- eggs is a valid variable because it is a string type name like any text name will be the variable but we can't put any integer value as a valid variable name."
   ]
  },
  {
   "cell_type": "markdown",
   "id": "663b2a42",
   "metadata": {},
   "source": [
    "Q9.What three functions can be used to get the integer, floating-point number, or string version of a value?\n",
    "\n",
    "Ans:- int(),float(),str()"
   ]
  },
  {
   "cell_type": "markdown",
   "id": "c58e0ef4",
   "metadata": {},
   "source": [
    "Q10.Why does this expression cause an error? How can you fix it?\n",
    "'I have eaten ' + 99 + ' burritos.'\n",
    "\n",
    "Ans:-Here we are trying to add string with integer (it's error).\n",
    "    To fix it , we should do typecasting i.e to include 99 in a single or double code that means we are converting this integer to string."
   ]
  }
 ],
 "metadata": {
  "kernelspec": {
   "display_name": "Python 3",
   "language": "python",
   "name": "python3"
  },
  "language_info": {
   "codemirror_mode": {
    "name": "ipython",
    "version": 3
   },
   "file_extension": ".py",
   "mimetype": "text/x-python",
   "name": "python",
   "nbconvert_exporter": "python",
   "pygments_lexer": "ipython3",
   "version": "3.8.8"
  }
 },
 "nbformat": 4,
 "nbformat_minor": 5
}
