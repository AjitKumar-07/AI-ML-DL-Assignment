{
 "cells": [
  {
   "cell_type": "markdown",
   "id": "26b5dfdf",
   "metadata": {},
   "source": [
    "Q-1. Write an SQL query to fetch “FIRST_NAME” from Worker table using the alias name as <WORKER_NAME>."
   ]
  },
  {
   "cell_type": "markdown",
   "id": "045acb30",
   "metadata": {},
   "source": [
    "Ans:- Select FIRST_NAME as WORKER_NAME from worker;"
   ]
  },
  {
   "cell_type": "markdown",
   "id": "d4644d33",
   "metadata": {},
   "source": [
    "Q-2. Write an SQL query to fetch unique values of DEPARTMENT from Worker table."
   ]
  },
  {
   "cell_type": "markdown",
   "id": "3504f2df",
   "metadata": {},
   "source": [
    "Ans:- select distinct DEPARTMENT from worker;"
   ]
  },
  {
   "cell_type": "markdown",
   "id": "c9f6265b",
   "metadata": {},
   "source": [
    "Q-3. Write an SQL query to show the last 5 record from a table."
   ]
  },
  {
   "cell_type": "markdown",
   "id": "927d4234",
   "metadata": {},
   "source": [
    "Ans:- select * from worker order by id desc limit 5;"
   ]
  }
 ],
 "metadata": {
  "kernelspec": {
   "display_name": "Python 3",
   "language": "python",
   "name": "python3"
  },
  "language_info": {
   "codemirror_mode": {
    "name": "ipython",
    "version": 3
   },
   "file_extension": ".py",
   "mimetype": "text/x-python",
   "name": "python",
   "nbconvert_exporter": "python",
   "pygments_lexer": "ipython3",
   "version": "3.8.8"
  }
 },
 "nbformat": 4,
 "nbformat_minor": 5
}
