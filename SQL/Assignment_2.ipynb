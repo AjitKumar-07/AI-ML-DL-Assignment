{
 "cells": [
  {
   "cell_type": "markdown",
   "id": "c81de75a",
   "metadata": {},
   "source": [
    "Q-1. Write an SQL query to print the first three characters of  FIRST_NAME from Worker table."
   ]
  },
  {
   "cell_type": "markdown",
   "id": "4dda7a62",
   "metadata": {},
   "source": [
    "Ans:- select substring(FIRST_NAME,1,3) as FIRST_NAME from worker;"
   ]
  },
  {
   "cell_type": "markdown",
   "id": "ae7e8707",
   "metadata": {},
   "source": [
    "Q-2. Write an SQL query to find the position of the alphabet (‘a’) in the first name column ‘Amitabh’ from Worker table."
   ]
  },
  {
   "cell_type": "markdown",
   "id": "a82d2360",
   "metadata": {},
   "source": [
    "Ans:- select locate('a',FIRST_NAME) as \" position OF a\" from worker where FIRST_NAME = \"Amitabh\";"
   ]
  },
  {
   "cell_type": "markdown",
   "id": "fced4c1b",
   "metadata": {},
   "source": [
    "Q-3. Write an SQL query to print the name of employees having the highest salary in each department."
   ]
  },
  {
   "cell_type": "markdown",
   "id": "809e09cc",
   "metadata": {},
   "source": [
    "Ans:- select first_name, salary, department from Worker as w where salary = (select MAX(salary) from worker where department = w.department);"
   ]
  }
 ],
 "metadata": {
  "kernelspec": {
   "display_name": "Python 3",
   "language": "python",
   "name": "python3"
  },
  "language_info": {
   "codemirror_mode": {
    "name": "ipython",
    "version": 3
   },
   "file_extension": ".py",
   "mimetype": "text/x-python",
   "name": "python",
   "nbconvert_exporter": "python",
   "pygments_lexer": "ipython3",
   "version": "3.8.8"
  }
 },
 "nbformat": 4,
 "nbformat_minor": 5
}
